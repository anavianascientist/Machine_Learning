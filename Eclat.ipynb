{
  "nbformat": 4,
  "nbformat_minor": 0,
  "metadata": {
    "jupytext": {
      "cell_metadata_filter": "-all",
      "main_language": "python",
      "notebook_metadata_filter": "-all"
    },
    "kernelspec": {
      "display_name": "Python 3",
      "language": "python",
      "name": "python3"
    },
    "language_info": {
      "codemirror_mode": {
        "name": "ipython",
        "version": 3
      },
      "file_extension": ".py",
      "mimetype": "text/x-python",
      "name": "python",
      "nbconvert_exporter": "python",
      "pygments_lexer": "ipython3",
      "version": "3.7.6"
    },
    "colab": {
      "name": "Eclat.ipynb",
      "provenance": [],
      "include_colab_link": true
    }
  },
  "cells": [
    {
      "cell_type": "markdown",
      "metadata": {
        "id": "view-in-github",
        "colab_type": "text"
      },
      "source": [
        "<a href=\"https://colab.research.google.com/github/anavianascientist/Machine_Learning/blob/master/Eclat.ipynb\" target=\"_parent\"><img src=\"https://colab.research.google.com/assets/colab-badge.svg\" alt=\"Open In Colab\"/></a>"
      ]
    },
    {
      "cell_type": "code",
      "metadata": {
        "id": "LUAKGdO9Mdh2",
        "colab_type": "code",
        "colab": {}
      },
      "source": [
        "\n",
        "# Algoritmo ECLAT"
      ],
      "execution_count": 1,
      "outputs": []
    },
    {
      "cell_type": "code",
      "metadata": {
        "lines_to_next_cell": 0,
        "id": "PIDVIhGJMdiM",
        "colab_type": "code",
        "colab": {}
      },
      "source": [
        "# Função pronta para o algoritmo ECLAT (atualmente o algoritmo não está disponível em uma biblioteca)\n",
        "import os;\n",
        "import sys;\n",
        "import numpy as np;\n",
        "import datetime as dt;\n",
        "from numpy import linalg as LA;\n",
        "import optparse;\n",
        "import argparse;"
      ],
      "execution_count": 2,
      "outputs": []
    },
    {
      "cell_type": "code",
      "metadata": {
        "lines_to_next_cell": 0,
        "id": "A-QAfgNlMdia",
        "colab_type": "code",
        "colab": {}
      },
      "source": [
        "# Global variable \n",
        "#containing all frequent patterns with its tid's\n",
        "F =[];\n",
        "# Time calculation\n",
        "#start_time =0;\n",
        "#end_time=0;\n",
        "\n",
        "# Pattern class:\n",
        "class Pattern:\n",
        "\tdef __init__(self, item, tids):\n",
        "\t\t# list of item Id's in the pattern\n",
        "\t\tself.item_id = item;\n",
        "\t\t# tid of the pattern\n",
        "\t\tself.tid_list = tids;\n",
        "\n",
        "\t# union operation of item Id's for two patterns to get ID of candidate pattern\n",
        "\tdef \tunion_id(self,next_node):\n",
        "\t\tt = set(self.item_id);\n",
        "\t\ttt = set(next_node.item_id);\n",
        "\t\tnew = t | tt;\n",
        "\t\tnew_id = list(new);\n",
        "\t\tnew_id.sort();\n",
        "\t\treturn new_id;\n",
        "\n",
        "\t# intersection of tid's of two patterns to find tid of candidate pattern\n",
        "\tdef \tintersec_tid_list(self,next_node):\n",
        "\t\tt = set(self.tid_list);\n",
        "\t\ttt = set(next_node.tid_list);\n",
        "\t\tnew = t & tt;\n",
        "\t\tnew_list = list(new);\n",
        "\t\tnew_list.sort();\n",
        "\t\treturn new_list;\n",
        "\t\n",
        "\t# returns support value for the pattern\n",
        "\tdef\tgetSup(self):\n",
        "\t\treturn len(self.tid_list);\n",
        "\t\n",
        "\t\n",
        "#\tdef\tcompare(self,n):\n",
        "#\t\tif self.item_id == n.item_id:\n",
        "#\t\t\treturn 1;\n",
        "#\t\treturn 0;\n",
        "\n",
        "\t#Candidate generation & check for support\t\n",
        "\tdef\tgenerate_check(self, n , minsup):\n",
        "\t\t\n",
        "\t\t# generating tid_list first\n",
        "\t\ttemp_tid_list = self.intersec_tid_list(n);\n",
        "\t\t\n",
        "\t\t# if support for new candidate is >= minsup then only generate ID for that candidate\t\t\n",
        "\t\tif len(temp_tid_list) >= minsup:\n",
        "\t\t\ttemp_id = self.union_id(n);\n",
        "\t\t\treturn (temp_id,temp_tid_list);\n",
        "\t\telse:\n",
        "\t\t\treturn ([],[]);\n",
        "\tdef\tpattern_print(self):\n",
        "\t\tpattern_ID = str(\"\");\n",
        "\t\tfor i in self.item_id:\n",
        "\t\t\tpattern_ID = pattern_ID + str(i) + ' ';\n",
        "\t\tprint(pattern_ID + '\\t\\t : ' + str(self.tid_list)); \n",
        "\t\t\t\n",
        "#End of Pattern class"
      ],
      "execution_count": 3,
      "outputs": []
    },
    {
      "cell_type": "code",
      "metadata": {
        "lines_to_next_cell": 0,
        "id": "lRDx70IsMdim",
        "colab_type": "code",
        "colab": {}
      },
      "source": [
        "# Pattern Store class:\n",
        "class PatternStore:\n",
        "\tdef \t__init__(self):\n",
        "\t\tself.Pattern_list = [];\n",
        "\t\n",
        "\t# Add a whole group of pattern to the list\n",
        "\tdef\taddGroup(self,list_nodes):\n",
        "\t\tfor n in list_nodes:\n",
        "\t\t\tself.Pattern_list.append(n);\n",
        "\n",
        "\t# Retursn i_th pattern from the list if available\n",
        "\tdef\tgetNode(self,index):\n",
        "\t\tif index < len(self.Pattern_list):\n",
        "\t\t\treturn self.Pattern_list[index];\n",
        "\t\telse:\n",
        "\t\t\treturn [];\n",
        "\t\n",
        "\t# To Fallow DFS method: Recursive function is used - to calculate all frequent patterns from the 1st level frequent list\n",
        "\tdef \tEclat(self,minsup):\n",
        "\t\tfor node in self.Pattern_list:\n",
        "\t\t\tF.append(node);\n",
        "\t\t\tnew_P = PatternStore();\n",
        "\t\t\t# As all patterns are sorted initially get only next pattern from the current\n",
        "\t\t\tindex = self.Pattern_list.index(node);\n",
        "\t\t\ti = index +1;\n",
        "\t\t\tn = self.getNode(i);\n",
        "\t\t\t\n",
        "\t\t\twhile n:\n",
        "\t\t\t\t# Here I am doing 2 steps togather: 1- candidate generation & 2- checking for minsup\n",
        "\t\t\t\t(temp_id,temp_tid_list) = node.generate_check(n,minsup);\n",
        "\t\t\t\t# if temp_id is not empty\t\t\t\t\n",
        "\t\t\t\tif temp_id:\t\t\t\t\n",
        "\t\t\t\t\tnew_P.Pattern_list.append(Pattern(temp_id,temp_tid_list));\n",
        "\t\t\t\ti = i +1;\n",
        "\t\t\t\t# get next node from the list\n",
        "\t\t\t\tn = self.getNode(i);\n",
        "\t\t\t# if any possible pattern child go to child first, DFS\n",
        "\t\t\tif new_P.Pattern_list:\n",
        "\t\t\t\tnew_P.Eclat(minsup);\n",
        "\n",
        "#End of PatternStore class"
      ],
      "execution_count": 4,
      "outputs": []
    },
    {
      "cell_type": "code",
      "metadata": {
        "lines_to_next_cell": 0,
        "id": "4JMQ93MjMdiv",
        "colab_type": "code",
        "colab": {}
      },
      "source": [
        "class DBReader:\n",
        "\n",
        "\tdef\t__init__(self,filetoread):\n",
        "\t\tself.file_id = filetoread;\n",
        "\tdef\treadFile(self):\n",
        "\t\t# stores each transaction\n",
        "\t\tself.trans=[];\n",
        "\t\t# stores no of items in each tansaction\n",
        "\t\tself.no_items = [];\n",
        "\t\tfor\tline\tin\tself.file_id:\n",
        "\t\t\ttuplex=line.split(\" \");\n",
        "\t\t\tmylist=[];\n",
        "\t\t\tself.no_items.append(tuplex[0]);\n",
        "\t\t\tfor\tposition\tin\trange(1,len(tuplex)):\n",
        "\t\t\t\tmylist.append(tuplex[position]);\t\n",
        "\t\n",
        "\t\t\tself.trans.append(mylist);\n",
        "\n",
        "\t# From transactions: generate patterns and prepare a list\n",
        "\tdef\tgenPatternList(self):\n",
        "\t\t#all items\n",
        "\t\ttemp = [item for sublist in self.trans for item in sublist];\n",
        "\n",
        "\t\t#removing duplicates\n",
        "\t\tmy_set = set(temp)\n",
        "\t\tself.items = list(my_set)\n",
        "\n",
        "\t\t#put in sorted oirder\n",
        "\t\tself.items.sort();\n",
        "\t\t\n",
        "\t\t# generate level_1 pattern list\n",
        "\t\tself.level_1 = [];\n",
        "\n",
        "\t\t# Start the timmer as candidate generation for level 1 is a part of Eclat algorithm.\n",
        "\t\tstart_time = dt.datetime.now();\t\t\n",
        "\t\t\n",
        "\t\t#generate all candidates for level 1\n",
        "\t\tfor it in self.items:\n",
        "\t\t\titem = [];\n",
        "\t\t\titem.append(it)\n",
        "\t\t\tself.level_1.append(Pattern(item,[]));\t\n",
        "\t\t\n",
        "\t\t# generate tid_list for every items in level 1 \n",
        "\t\ti=0;\n",
        "\t\tfor t in self.trans:\n",
        "\t\t\ti = i + 1;\n",
        "\t\t\tt.sort();\n",
        "\t\t\tfor it_id in t:\n",
        "\t\t\t\tindex = self.items.index(it_id);\n",
        "\t\t\t\tself.level_1[index].tid_list.append(i);\n",
        "\t\n",
        "\t\treturn start_time;\n",
        "\n",
        "\t# returns frequent patterns\n",
        "\tdef\tgetFrequent(self,minsup):\n",
        "\t\tself.P = [];\n",
        "\t\tfor n in self.level_1:\n",
        "\t\t\tc = int(n.getSup());\n",
        "\t\t\tif  c >= minsup:\n",
        "\t\t\t\t#print c;\n",
        "\t\t\t\tself.P.append(n);\n",
        "\t\treturn self.P;\n",
        "\n",
        "#End of DBReader class"
      ],
      "execution_count": 5,
      "outputs": []
    },
    {
      "cell_type": "code",
      "metadata": {
        "lines_to_next_cell": 0,
        "id": "8XpAHihEMdi-",
        "colab_type": "code",
        "colab": {}
      },
      "source": [
        "def main(file, support):\n",
        "\t#printing flag\n",
        "\tp_flag = 1;\n",
        "\n",
        "\t#parser = optparse.OptionParser(\"usage: %prog [options] arg1 arg2\")\n",
        "\t#parser.add_option(\"-f\",  dest=\"filename\", default=\"data.txt\", type=\"string\", help=\"specify filename to run on\");\n",
        "\t#parser.add_option(\"-s\",  dest=\"supnum\", default=0, type=\"int\", help=\"give minimun support to run on\");\n",
        "\t#parser.add_option(\"-p\",  dest=\"p\", default=1, type=\"int\");\n",
        "\t#(options, args) = parser.parse_args();\n",
        "\n",
        "\tparser = argparse.ArgumentParser();\n",
        "\tparser.add_argument(\"-f\",\"--filename\");\n",
        "\tparser.add_argument(\"-s\",\"--supnum\", type=int);\n",
        "\tparser.add_argument(\"-p\", \"--print_flag\", action=\"store_true\");\n",
        "\targs = parser.parse_args();\n",
        "\t\n",
        " \n",
        "\t#if\tlen(sys.argv) < 3:\n",
        "\t#\tprint('Please give me the filename &  minimum support value'+os.linesep);\n",
        "\t#\tsys.exit(1);\n",
        "\ttry:\t\n",
        "\t\t#file name\n",
        "\t\tf_name = file;\n",
        "\t\tfileToRead=open(f_name);\n",
        "\t\t#fileToRead = open(\"data.txt\");\n",
        "\t\t#Minimum Spport vlaue\t\n",
        "\t\tminsup = support;\n",
        "\t\t# printing flag \n",
        "\t\tif args.print_flag:\n",
        "\t\t\tp_flag = 1;\t\n",
        "\texcept(IOError,IndexError):\n",
        "\t\tprint('Bad file name'+os.linesep);\n",
        "\t\tsys.exit(1);\n",
        "\n",
        "\t\n",
        "\tprint('minsup = '+str(minsup));\n",
        "\n",
        "\t#minsup = 2;\n",
        "\n",
        "\t# DBReader object\n",
        "\treader = DBReader(fileToRead);\n",
        "\t#reading the file\n",
        "\treader.readFile();\n",
        "\t# Pattern generation for level 1 - It will return the starting time from when candidate generation is started.\t\n",
        "\tstart_time = reader.genPatternList();\n",
        "\t#print\n",
        "\t\n",
        "\t# Get frequent patterns from all candidates of level 1:\n",
        "\tlevel1_P = reader.getFrequent(minsup)\n",
        "\n",
        "\t#for n in level1_P:\n",
        "\t#\tprint n.item_id;\n",
        "\t#\tprint n.tid_list;\n",
        "\n",
        "\t#correct\n",
        "\n",
        "\t# Create Pattern Store object\n",
        "\tPttStr = PatternStore();\n",
        "\t\n",
        "\t# Add frequent patterns from level 1\n",
        "\tPttStr.addGroup(level1_P);\n",
        "\n",
        "\t# Eclat Algorithm\n",
        "\tPttStr.Eclat(minsup);\n",
        "\t\n",
        "\tend_time = dt.datetime.now();\n",
        "\t\n",
        "\t#print start_time;\n",
        "\t#print end_time;\n",
        "\t\t\n",
        "\ttime = end_time - start_time;\n",
        "\t\n",
        "\tprint('Computation time = '+ str(time.total_seconds()) + ' Seconds');\n",
        "\t\n",
        "\tif p_flag == 1:\n",
        "\t\tprint('Pattern\\t\\t : Tid_List');\t\n",
        "\t\tfor n in F:\n",
        "\t\t\tn.pattern_print();\n",
        "\n",
        "#End of main function"
      ],
      "execution_count": 6,
      "outputs": []
    },
    {
      "cell_type": "code",
      "metadata": {
        "id": "OTeFyKc9M4Xn",
        "colab_type": "code",
        "colab": {
          "resources": {
            "http://localhost:8080/nbextensions/google.colab/files.js": {
              "data": "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",
              "ok": true,
              "headers": [
                [
                  "content-type",
                  "application/javascript"
                ]
              ],
              "status": 200,
              "status_text": ""
            }
          },
          "base_uri": "https://localhost:8080/",
          "height": 72
        },
        "outputId": "faf7403d-2fb4-4d5b-906b-aabdd6851a28"
      },
      "source": [
        "from google.colab import files\n",
        "uploaded = files.upload()"
      ],
      "execution_count": 8,
      "outputs": [
        {
          "output_type": "display_data",
          "data": {
            "text/html": [
              "\n",
              "     <input type=\"file\" id=\"files-ead5e6bd-8852-42e2-a365-55efa9bdb30a\" name=\"files[]\" multiple disabled\n",
              "        style=\"border:none\" />\n",
              "     <output id=\"result-ead5e6bd-8852-42e2-a365-55efa9bdb30a\">\n",
              "      Upload widget is only available when the cell has been executed in the\n",
              "      current browser session. Please rerun this cell to enable.\n",
              "      </output>\n",
              "      <script src=\"/nbextensions/google.colab/files.js\"></script> "
            ],
            "text/plain": [
              "<IPython.core.display.HTML object>"
            ]
          },
          "metadata": {
            "tags": []
          }
        },
        {
          "output_type": "stream",
          "text": [
            "Saving transacoes2.txt to transacoes2.txt\n"
          ],
          "name": "stdout"
        }
      ]
    },
    {
      "cell_type": "code",
      "metadata": {
        "id": "mrLNaSlKMdja",
        "colab_type": "code",
        "colab": {
          "base_uri": "https://localhost:8080/",
          "height": 170
        },
        "outputId": "53e86383-14ae-4063-97eb-0e8e628dfad0"
      },
      "source": [
        "# Geração dos itens frequentes\n",
        "if\t__name__== \"__main__\":\n",
        "\tmain('transacoes2.txt', 3);"
      ],
      "execution_count": 11,
      "outputs": [
        {
          "output_type": "stream",
          "text": [
            "minsup = 3\n",
            "Computation time = 8.4e-05 Seconds\n",
            "Pattern\t\t : Tid_List\n",
            "Carvao \t\t : [1, 2, 3, 4]\n",
            "Carvao Cerveja \t\t : [1, 3, 4]\n",
            "Cerveja \t\t : [1, 3, 4]\n",
            "Carvao \t\t : [1, 2, 3, 4]\n",
            "Carvao Cerveja \t\t : [1, 3, 4]\n",
            "Cerveja \t\t : [1, 3, 4]\n"
          ],
          "name": "stdout"
        }
      ]
    },
    {
      "cell_type": "code",
      "metadata": {
        "id": "NkkOJrNDMdke",
        "colab_type": "code",
        "colab": {}
      },
      "source": [
        ""
      ],
      "execution_count": null,
      "outputs": []
    }
  ]
}